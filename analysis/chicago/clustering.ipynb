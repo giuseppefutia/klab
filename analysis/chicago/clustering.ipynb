{
 "cells": [
  {
   "cell_type": "code",
   "execution_count": 1,
   "id": "953bda5f",
   "metadata": {},
   "outputs": [],
   "source": [
    "import os\n",
    "import sys\n",
    "import configparser\n",
    "\n",
    "project_root = os.path.abspath(os.path.join(os.getcwd(), \"../../\"))\n",
    "sys.path.append(project_root)\n",
    "\n",
    "from yfiles_jupyter_graphs_for_neo4j import Neo4jGraphWidget\n",
    "from database.neo4j_db import Neo4jGraphDB"
   ]
  },
  {
   "cell_type": "code",
   "execution_count": 2,
   "id": "9d92a37e",
   "metadata": {},
   "outputs": [],
   "source": [
    "# Load configuration, database, and visualization\n",
    "config = configparser.ConfigParser()\n",
    "config.read('../../config.ini')\n",
    "neo4j_graph = Neo4jGraphDB()\n",
    "driver = Neo4jGraphDB()._driver\n",
    "jg = Neo4jGraphWidget(driver)"
   ]
  },
  {
   "cell_type": "markdown",
   "id": "23c07ac8",
   "metadata": {},
   "source": [
    "# Full-text Search for Similarity"
   ]
  },
  {
   "cell_type": "code",
   "execution_count": 3,
   "id": "9c0ec7d4",
   "metadata": {},
   "outputs": [
    {
     "name": "stdout",
     "output_type": "stream",
     "text": [
      "ID: 3109330, Name: Leo Appelbaum, Score: 1.0 \n",
      "ID: 3144501, Name: Lee D Applbaum, Score: 0.7368421052631579 \n",
      "ID: 3205309, Name: Lee D. Applbaum, Score: 0.7 \n",
      "ID: 3000000, Name: Leo Appelbaum, Score: 1.0 \n",
      "ID: 3144501, Name: Lee D Applbaum, Score: 0.7368421052631579 \n",
      "ID: 3205309, Name: Lee D. Applbaum, Score: 0.7 \n"
     ]
    }
   ],
   "source": [
    "# Lucene Index + SorensenDice\n",
    "full_index_query = \"\"\"\n",
    "    MATCH (p:PersonRecord )\n",
    "    WHERE p.fullName = \"Leo Appelbaum\"\n",
    "    WITH p, p.fullName as name,\n",
    "        apoc.text.split(apoc.text.replace(p.fullName ,'[^a-zA-Z0-9\\\\s]', ''), \"\\\\s+\") as name_words\n",
    "    WHERE size(name_words) > 0\n",
    "    CALL db.index.fulltext.queryNodes(\n",
    "        \"person_record_fullName\",\n",
    "        apoc.text.join([x IN name_words | trim(x) + \"~0.65\"], \" AND \")\n",
    "    )\n",
    "    YIELD node, score\n",
    "    WITH p, name, node\n",
    "    WHERE p <> node\n",
    "    WITH p, node, apoc.text.sorensenDiceSimilarity(name, node.fullName) as simil\n",
    "    WHERE simil > 0.695\n",
    "    RETURN node.id as recordId, node.fullName as recordName, simil \n",
    "    \"\"\"\n",
    "with driver.session() as session:\n",
    "    result = session.run(full_index_query)\n",
    "\n",
    "    for record in result:\n",
    "        print(f\"ID: {record['recordId']}, Name: {record['recordName']}, Score: {record['simil']} \")"
   ]
  },
  {
   "cell_type": "code",
   "execution_count": 4,
   "id": "4e704fd6",
   "metadata": {},
   "outputs": [
    {
     "name": "stdout",
     "output_type": "stream",
     "text": [
      "ID: 3000000, Name: Leo Appelbaum, Score: 9.165863037109375 \n",
      "ID: 3109330, Name: Leo Appelbaum, Score: 9.165863037109375 \n",
      "ID: 3144501, Name: Lee D Applbaum, Score: 5.777987480163574 \n",
      "ID: 3205309, Name: Lee D. Applbaum, Score: 5.777987480163574 \n",
      "ID: 3000000, Name: Leo Appelbaum, Score: 9.165863037109375 \n",
      "ID: 3109330, Name: Leo Appelbaum, Score: 9.165863037109375 \n",
      "ID: 3144501, Name: Lee D Applbaum, Score: 5.777987480163574 \n",
      "ID: 3205309, Name: Lee D. Applbaum, Score: 5.777987480163574 \n"
     ]
    }
   ],
   "source": [
    "# Lucene Index\n",
    "index_query = \"\"\"\n",
    "    MATCH (p:PersonRecord )\n",
    "    WHERE p.fullName = \"Leo Appelbaum\"\n",
    "    WITH p, p.fullName as name,\n",
    "        apoc.text.split(apoc.text.replace(p.fullName ,'[^a-zA-Z0-9\\\\s]', ''), \"\\\\s+\") as name_words\n",
    "    WHERE size(name_words) > 0\n",
    "    CALL db.index.fulltext.queryNodes(\n",
    "        \"person_record_fullName\",\n",
    "        apoc.text.join([x IN name_words | trim(x) + \"~0.65\"], \" AND \")\n",
    "    )\n",
    "    YIELD node, score\n",
    "    RETURN node.id as recordId, node.fullName as recordName, score as simil \n",
    "    \"\"\"\n",
    "with driver.session() as session:\n",
    "    result = session.run(index_query)\n",
    "\n",
    "    for record in result:\n",
    "        print(f\"ID: {record['recordId']}, Name: {record['recordName']}, Score: {record['simil']} \")"
   ]
  },
  {
   "cell_type": "markdown",
   "id": "a3e2b8b1",
   "metadata": {},
   "source": [
    "# Community Detection: Weakly Connected Component vs Louvain"
   ]
  },
  {
   "cell_type": "code",
   "execution_count": 5,
   "id": "32bd44b4",
   "metadata": {},
   "outputs": [
    {
     "name": "stdout",
     "output_type": "stream",
     "text": [
      "Number of Records: 33353, Name: Li Ji\n",
      "Number of Records: 8893, Name: None\n",
      "Number of Records: 2918, Name: Ali Ali\n",
      "Number of Records: 836, Name: R Patel\n",
      "Number of Records: 423, Name: John Mark\n",
      "Number of Records: 311, Name: Kathleen\n",
      "Number of Records: 157, Name: Mark Ma\n",
      "Number of Records: 148, Name: Business Owner\n",
      "Number of Records: 113, Name: John Cole\n",
      "Number of Records: 101, Name: Mark Allen\n"
     ]
    }
   ],
   "source": [
    "# Highly connected Person to the related records\n",
    "highest_records_query = \"\"\"\n",
    "    MATCH (pr:PersonRecord)-[:RECORD_RESOLVED_TO]->(p:Person)\n",
    "    RETURN size(collect(pr)) as numberOfRecords, p.name as personName\n",
    "    ORDER BY numberOfRecords DESC\n",
    "    LIMIT 10\n",
    "\"\"\"\n",
    "\n",
    "with driver.session() as session:\n",
    "    result = session.run(highest_records_query)\n",
    "\n",
    "    for record in result:\n",
    "        print(f\"Number of Records: {record['numberOfRecords']}, Name: {record['personName']}\")"
   ]
  },
  {
   "cell_type": "code",
   "execution_count": 6,
   "id": "3ed6effc",
   "metadata": {},
   "outputs": [
    {
     "data": {
      "application/vnd.jupyter.widget-view+json": {
       "model_id": "be84e1359bdb41c38f4fb292e4e312b1",
       "version_major": 2,
       "version_minor": 0
      },
      "text/plain": [
       "GraphWidget(layout=Layout(height='800px', width='100%'))"
      ]
     },
     "metadata": {},
     "output_type": "display_data"
    }
   ],
   "source": [
    "# Showing bridges between highly-connected records\n",
    "jg.show_cypher(\"MATCH path=(:PersonRecord)-[:IS_SIMILAR_TO]-(:PersonRecord)-[:IS_SIMILAR_TO]-(pr:PersonRecord)-[:RECORD_RESOLVED_TO]->(p:Person) WHERE p.name = 'Li Ji' RETURN path LIMIT 100\")"
   ]
  },
  {
   "cell_type": "code",
   "execution_count": 7,
   "id": "0286915a",
   "metadata": {},
   "outputs": [
    {
     "name": "stdout",
     "output_type": "stream",
     "text": [
      "Number of WCC communities: 1, Number of Louvain communities: 4677\n"
     ]
    }
   ],
   "source": [
    "# Number of WCC communities vs Number of Louvain communities\n",
    "wcc_louvain_query = \"\"\"\n",
    "    MATCH (pr:PersonRecord)-[:RECORD_RESOLVED_TO]->(p:Person) WHERE p.name = 'Li Ji'\n",
    "    RETURN DISTINCT size(collect(DISTINCT pr.componentId)) as wccId, size(collect(DISTINCT pr.louvain)) as louvainId \n",
    "\"\"\"\n",
    "\n",
    "with driver.session() as session:\n",
    "    result = session.run(wcc_louvain_query)\n",
    "\n",
    "    for record in result:\n",
    "        print(f\"Number of WCC communities: {record['wccId']}, Number of Louvain communities: {record['louvainId']}\")\n"
   ]
  }
 ],
 "metadata": {
  "kernelspec": {
   "display_name": "venv",
   "language": "python",
   "name": "python3"
  },
  "language_info": {
   "codemirror_mode": {
    "name": "ipython",
    "version": 3
   },
   "file_extension": ".py",
   "mimetype": "text/x-python",
   "name": "python",
   "nbconvert_exporter": "python",
   "pygments_lexer": "ipython3",
   "version": "3.10.0"
  }
 },
 "nbformat": 4,
 "nbformat_minor": 5
}
