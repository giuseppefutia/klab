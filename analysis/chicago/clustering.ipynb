{
 "cells": [
  {
   "cell_type": "code",
   "execution_count": 24,
   "id": "953bda5f",
   "metadata": {},
   "outputs": [],
   "source": [
    "import os\n",
    "import sys\n",
    "import configparser\n",
    "\n",
    "project_root = os.path.abspath(os.path.join(os.getcwd(), \"../../\"))\n",
    "sys.path.append(project_root)\n",
    "\n",
    "from yfiles_jupyter_graphs_for_neo4j import Neo4jGraphWidget\n",
    "from database.neo4j_db import Neo4jGraphDB"
   ]
  },
  {
   "cell_type": "code",
   "execution_count": 25,
   "id": "9d92a37e",
   "metadata": {},
   "outputs": [],
   "source": [
    "# Load configuration, database, and visualization\n",
    "config = configparser.ConfigParser()\n",
    "config.read('../../config.ini')\n",
    "neo4j_graph = Neo4jGraphDB()\n",
    "driver = Neo4jGraphDB()._driver\n",
    "jg = Neo4jGraphWidget(driver)"
   ]
  },
  {
   "cell_type": "markdown",
   "id": "23c07ac8",
   "metadata": {},
   "source": [
    "# Full-text Search for Similarity\n",
    "This section describes how to apply scalable techniques to detect similarities between nodes."
   ]
  },
  {
   "cell_type": "markdown",
   "id": "a026f2cb",
   "metadata": {},
   "source": [
    "## Person Rercords Similarity"
   ]
  },
  {
   "cell_type": "code",
   "execution_count": 26,
   "id": "9c0ec7d4",
   "metadata": {},
   "outputs": [
    {
     "name": "stdout",
     "output_type": "stream",
     "text": [
      "ID: 3109330, Name: Leo Appelbaum, Score: 1.0 \n",
      "ID: 3144501, Name: Lee D Applbaum, Score: 0.7368421052631579 \n",
      "ID: 3205309, Name: Lee D. Applbaum, Score: 0.7 \n",
      "ID: 3000000, Name: Leo Appelbaum, Score: 1.0 \n"
     ]
    }
   ],
   "source": [
    "# Lucene Index + SorensenDice\n",
    "full_index_query = \"\"\"\n",
    "    MATCH (p:PersonRecord )\n",
    "    WHERE p.fullName = \"Leo Appelbaum\"\n",
    "    WITH p, p.fullName as name,\n",
    "        apoc.text.split(apoc.text.replace(p.fullName ,'[^a-zA-Z0-9\\\\s]', ''), \"\\\\s+\") as name_words\n",
    "    WHERE size(name_words) > 0\n",
    "    CALL db.index.fulltext.queryNodes(\n",
    "        \"person_record_fullName\",\n",
    "        apoc.text.join([x IN name_words | trim(x) + \"~0.65\"], \" AND \")\n",
    "    )\n",
    "    YIELD node, score\n",
    "    WITH p, name, node\n",
    "    WHERE p <> node\n",
    "    WITH p, node, apoc.text.sorensenDiceSimilarity(name, node.fullName) as simil\n",
    "    WHERE simil > 0.695\n",
    "    RETURN DISTINCT node.id as recordId, node.fullName as recordName, simil \n",
    "    \"\"\"\n",
    "with driver.session() as session:\n",
    "    result = session.run(full_index_query)\n",
    "\n",
    "    for record in result:\n",
    "        print(f\"ID: {record['recordId']}, Name: {record['recordName']}, Score: {record['simil']} \")"
   ]
  },
  {
   "cell_type": "code",
   "execution_count": 27,
   "id": "4e704fd6",
   "metadata": {},
   "outputs": [
    {
     "name": "stdout",
     "output_type": "stream",
     "text": [
      "ID: 3000000, Name: Leo Appelbaum, Score: 9.165863037109375 \n",
      "ID: 3109330, Name: Leo Appelbaum, Score: 9.165863037109375 \n",
      "ID: 3144501, Name: Lee D Applbaum, Score: 5.777987480163574 \n",
      "ID: 3205309, Name: Lee D. Applbaum, Score: 5.777987480163574 \n"
     ]
    }
   ],
   "source": [
    "# Lucene Index\n",
    "index_query = \"\"\"\n",
    "    MATCH (p:PersonRecord )\n",
    "    WHERE p.fullName = \"Leo Appelbaum\"\n",
    "    WITH p, p.fullName as name,\n",
    "        apoc.text.split(apoc.text.replace(p.fullName ,'[^a-zA-Z0-9\\\\s]', ''), \"\\\\s+\") as name_words\n",
    "    WHERE size(name_words) > 0\n",
    "    CALL db.index.fulltext.queryNodes(\n",
    "        \"person_record_fullName\",\n",
    "        apoc.text.join([x IN name_words | trim(x) + \"~0.65\"], \" AND \")\n",
    "    )\n",
    "    YIELD node, score\n",
    "    RETURN DISTINCT node.id as recordId, node.fullName as recordName, score as simil \n",
    "    \"\"\"\n",
    "with driver.session() as session:\n",
    "    result = session.run(index_query)\n",
    "\n",
    "    for record in result:\n",
    "        print(f\"ID: {record['recordId']}, Name: {record['recordName']}, Score: {record['simil']} \")"
   ]
  },
  {
   "cell_type": "markdown",
   "id": "6b0c6a81",
   "metadata": {},
   "source": [
    "## Organizations Similarity"
   ]
  },
  {
   "cell_type": "code",
   "execution_count": 28,
   "id": "e7daf8e6",
   "metadata": {},
   "outputs": [
    {
     "name": "stdout",
     "output_type": "stream",
     "text": [
      "ID: 417754, Name: LEAH SHOSHANAH COWEN, Score: 0.6363636363636364 \n",
      "ID: 86019, Name: DOCK'S GREAT FISH, INC, Score: 0.5 \n",
      "ID: 36517125L, Name: JOYOUS YEARS YOUTH EMPOWERMENT PROGRAM (JYYEP), Score: 0.4090909090909091 \n"
     ]
    }
   ],
   "source": [
    "# Lucene Index + SorensenDice\n",
    "full_index_query = \"\"\"\n",
    "    MATCH (o:Organization)\n",
    "    WHERE o.name in [\"JOYOUS YEARS\", \"DOCK'S\", \"LEAH S COWEN\"]\n",
    "    WITH o,\n",
    "        trim(apoc.text.replace(o.name, '(?i)\\\\b(?:co|ltd|inc|corp|llc|llp|pvt|gmbh|s.a.|s.l.|and|not)\\\\b', '')) as clean_name\n",
    "    WITH o, clean_name,\n",
    "        apoc.text.split(apoc.text.replace(clean_name, '[^a-zA-Z0-9\\\\s]', ''), \"\\\\s+\") as name_words\n",
    "    WITH o, clean_name,\n",
    "        [x IN name_words WHERE size(trim(x)) > 2 AND trim(x) IS NOT NULL AND NOT toLower(x) IN ['and', 'not']] as valid_name_words\n",
    "    WHERE size(valid_name_words) > 0\n",
    "    \n",
    "    CALL db.index.fulltext.queryNodes(\n",
    "        \"organization_name\",\n",
    "        apoc.text.join([x IN valid_name_words | trim(x) + \"~0.3\"], \" AND \")\n",
    "    )\n",
    "    YIELD node, score\n",
    "    WHERE node <> o\n",
    "    \n",
    "    WITH o, clean_name, node,\n",
    "        trim(apoc.text.replace(node.name, '(?i)\\\\b(?:co|ltd|inc|corp|llc|llp|pvt|gmbh|s.a.|s.l.|and|not)\\\\b', '')) as clean_node_name\n",
    "    WITH o, clean_name, node, clean_node_name,\n",
    "        apoc.text.sorensenDiceSimilarity(clean_name, clean_node_name) as simil\n",
    "    WHERE simil > 0.3\n",
    "    MATCH (o)-[:HAS_ADDRESS]->(a:Address)<-[:HAS_ADDRESS]-(node)\n",
    "    RETURN node.id as orgId, node.name as orgName, simil\n",
    "    \"\"\"\n",
    "with driver.session() as session:\n",
    "    result = session.run(full_index_query)\n",
    "\n",
    "    for record in result:\n",
    "        print(f\"ID: {record['orgId']}, Name: {record['orgName']}, Score: {record['simil']} \")"
   ]
  },
  {
   "cell_type": "markdown",
   "id": "a3e2b8b1",
   "metadata": {},
   "source": [
    "# Community Detection: Weakly Connected Component vs Louvain"
   ]
  },
  {
   "cell_type": "code",
   "execution_count": 29,
   "id": "32bd44b4",
   "metadata": {},
   "outputs": [
    {
     "name": "stdout",
     "output_type": "stream",
     "text": [
      "Number of Records: 33353, Name: Li Ji\n",
      "Number of Records: 8893, Name: None\n",
      "Number of Records: 2918, Name: Ali Ali\n",
      "Number of Records: 836, Name: R Patel\n",
      "Number of Records: 423, Name: John Mark\n",
      "Number of Records: 311, Name: Kathleen\n",
      "Number of Records: 157, Name: Mark Ma\n",
      "Number of Records: 148, Name: Business Owner\n",
      "Number of Records: 113, Name: John Cole\n",
      "Number of Records: 101, Name: Mark Allen\n"
     ]
    }
   ],
   "source": [
    "# Highly connected Person to the related records\n",
    "highest_records_query = \"\"\"\n",
    "    MATCH (pr:PersonRecord)-[:RECORD_RESOLVED_TO]->(p:Person)\n",
    "    RETURN size(collect(pr)) as numberOfRecords, p.name as personName\n",
    "    ORDER BY numberOfRecords DESC\n",
    "    LIMIT 10\n",
    "\"\"\"\n",
    "\n",
    "with driver.session() as session:\n",
    "    result = session.run(highest_records_query)\n",
    "\n",
    "    for record in result:\n",
    "        print(f\"Number of Records: {record['numberOfRecords']}, Name: {record['personName']}\")"
   ]
  },
  {
   "cell_type": "code",
   "execution_count": 30,
   "id": "3ed6effc",
   "metadata": {},
   "outputs": [
    {
     "data": {
      "application/vnd.jupyter.widget-view+json": {
       "model_id": "d45286aaa9fb4d958d2aad743c2709db",
       "version_major": 2,
       "version_minor": 0
      },
      "text/plain": [
       "GraphWidget(layout=Layout(height='800px', width='100%'))"
      ]
     },
     "metadata": {},
     "output_type": "display_data"
    }
   ],
   "source": [
    "# Showing bridges between highly-connected records\n",
    "jg.show_cypher(\"MATCH path=(:PersonRecord)-[:IS_SIMILAR_TO]-(:PersonRecord)-[:IS_SIMILAR_TO]-(pr:PersonRecord)-[:RECORD_RESOLVED_TO]->(p:Person) WHERE p.name = 'Li Ji' RETURN path LIMIT 100\")"
   ]
  },
  {
   "cell_type": "code",
   "execution_count": 31,
   "id": "0286915a",
   "metadata": {},
   "outputs": [
    {
     "name": "stdout",
     "output_type": "stream",
     "text": [
      "Number of WCC communities: 1, Number of Louvain communities: 4677\n"
     ]
    }
   ],
   "source": [
    "# Number of WCC communities vs Number of Louvain communities\n",
    "wcc_louvain_query = \"\"\"\n",
    "    MATCH (pr:PersonRecord)-[:RECORD_RESOLVED_TO]->(p:Person) WHERE p.name = 'Li Ji'\n",
    "    RETURN DISTINCT size(collect(DISTINCT pr.componentId)) as wccId, size(collect(DISTINCT pr.louvain)) as louvainId \n",
    "\"\"\"\n",
    "\n",
    "with driver.session() as session:\n",
    "    result = session.run(wcc_louvain_query)\n",
    "\n",
    "    for record in result:\n",
    "        print(f\"Number of WCC communities: {record['wccId']}, Number of Louvain communities: {record['louvainId']}\")\n"
   ]
  },
  {
   "cell_type": "markdown",
   "id": "8c13abbf",
   "metadata": {},
   "source": [
    "# Number of Records vs Number of Entities"
   ]
  },
  {
   "cell_type": "code",
   "execution_count": null,
   "id": "0460270a",
   "metadata": {},
   "outputs": [],
   "source": [
    "counting_query = \"\"\"\n",
    "// ContractRecord and Contract\n",
    "MATCH (cr:ContractRecord)\n",
    "RETURN 'ContractRecord' AS Type, count(cr) AS Total, 0 AS Resolved\n",
    "UNION\n",
    "MATCH (c:Contract)\n",
    "RETURN 'Contract' AS Type, count(c) AS Total, count(c) AS Resolved\n",
    "\n",
    "UNION\n",
    "\n",
    "// PersonRecord and Person\n",
    "MATCH (pr:PersonRecord)\n",
    "RETURN 'PersonRecord' AS Type, count(pr) AS Total, 0 AS Resolved\n",
    "UNION\n",
    "MATCH (p:Person)\n",
    "RETURN 'Person' AS Type, count(p) AS Total, count(p) AS Resolved\n",
    "\n",
    "UNION\n",
    "\n",
    "// Organization and OrganizationGroup\n",
    "MATCH (o:Organization)\n",
    "RETURN 'Organization' AS Type, count(o) AS Total, 0 AS Resolved\n",
    "UNION\n",
    "MATCH (og:OrganizationGroup)\n",
    "RETURN 'OrganizationGroup' AS Type, count(og) AS Total, count(og) AS Resolved\n",
    "\"\"\"\n",
    "\n",
    "with driver.session() as session:\n",
    "    result = session.run(counting_query)\n",
    "    print(f\"{'Type':<20} {'Total':<10} {'Resolved':<10}\")\n",
    "    print(\"-\" * 40)\n",
    "    for record in result:\n",
    "        print(f\"{record['Type']:<20} {record['Total']:<10} {record['Resolved']:<10}\")"
   ]
  },
  {
   "cell_type": "code",
   "execution_count": null,
   "id": "cdda9f7e",
   "metadata": {},
   "outputs": [],
   "source": []
  }
 ],
 "metadata": {
  "kernelspec": {
   "display_name": "fhir",
   "language": "python",
   "name": "python3"
  },
  "language_info": {
   "codemirror_mode": {
    "name": "ipython",
    "version": 3
   },
   "file_extension": ".py",
   "mimetype": "text/x-python",
   "name": "python",
   "nbconvert_exporter": "python",
   "pygments_lexer": "ipython3",
   "version": "3.10.16"
  }
 },
 "nbformat": 4,
 "nbformat_minor": 5
}
